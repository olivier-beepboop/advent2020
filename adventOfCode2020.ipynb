{
 "cells": [
  {
   "cell_type": "markdown",
   "metadata": {},
   "source": [
    "Day One"
   ]
  },
  {
   "cell_type": "code",
   "execution_count": 3,
   "metadata": {},
   "outputs": [
    {
     "name": "stdout",
     "output_type": "stream",
     "text": [
      "954\n",
      "1066\n",
      "1016964\n"
     ]
    }
   ],
   "source": [
    "using DelimitedFiles \n",
    "input = readdlm(\"C:\\\\testspu\\\\input.txt\", ',') \n",
    "iinput  =convert(Array{Int16}, input)\n",
    "fcomp2020(A) = map(x -> 2020-x, A)\n",
    "comp2020 = fcomp2020(iinput)\n",
    " res = 0\n",
    "\n",
    "for i=1:length(iinput) \n",
    "    if  input[i] in comp2020 \n",
    "        println( iinput[i])\n",
    "        res= iinput[i]\n",
    "    end\n",
    " end       \n",
    "\n",
    "println( res *  fcomp2020(res)  )"
   ]
  },
  {
   "cell_type": "markdown",
   "metadata": {},
   "source": [
    "Day one puzzle two"
   ]
  },
  {
   "cell_type": "code",
   "execution_count": 20,
   "metadata": {},
   "outputs": [
    {
     "name": "stdout",
     "output_type": "stream",
     "text": [
      "295 509\n",
      "509 295\n",
      "(509, \" \", 295, \" \", 1216)\n"
     ]
    },
    {
     "data": {
      "text/plain": [
       "182588480"
      ]
     },
     "execution_count": 20,
     "metadata": {},
     "output_type": "execute_result"
    }
   ],
   "source": [
    "k = zeros(Int16,  length(input), length(input))\n",
    "for i=1:length(iinput)\n",
    "    for j=1:(201-i)\n",
    "        k[i,j] = 2020 - ( iinput[i]+iinput[j] )\n",
    "    end\n",
    "end\n",
    "\n",
    "res1 =0 \n",
    "res2 =0\n",
    " \n",
    "for i=1:length(iinput) \n",
    "    for j=1:length(iinput) \n",
    "        if  k[i,j] in iinput \n",
    "            println( iinput[i],  \" \" ,iinput[j] )\n",
    "            res1= iinput[i]\n",
    "            res2=iinput[j]\n",
    "        end \n",
    "    end\n",
    " end       \n",
    "\n",
    "println( (res1, \" \",  res2,  \" \", 2020-(res1 +res2) )) \n",
    "\n",
    "convert(BigInt, res1) * res2 * (2020-(res1 +res2))"
   ]
  },
  {
   "cell_type": "code",
   "execution_count": null,
   "metadata": {},
   "outputs": [],
   "source": []
  },
  {
   "cell_type": "code",
   "execution_count": null,
   "metadata": {},
   "outputs": [],
   "source": []
  }
 ],
 "metadata": {
  "kernelspec": {
   "display_name": "Julia 1.5.2",
   "language": "julia",
   "name": "julia-1.5"
  },
  "language_info": {
   "file_extension": ".jl",
   "mimetype": "application/julia",
   "name": "julia",
   "version": "1.5.2"
  }
 },
 "nbformat": 4,
 "nbformat_minor": 2
}
